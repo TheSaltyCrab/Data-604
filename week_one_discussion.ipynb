{
 "cells": [
  {
   "cell_type": "markdown",
   "id": "6ae7a0ae",
   "metadata": {},
   "source": [
    "# Week One Disscussion\n",
    "\n",
    "### Goal: \"Write a simulation for a simple game of chance (e.g., drawing cards, rolling one or more dice, etc.). Run the simulation 1000 times and interpret the outcome. Post your code here, and discuss what might be done to improve it.\"\n",
    "\n",
    "### I chose roulette"
   ]
  },
  {
   "cell_type": "code",
   "execution_count": 21,
   "id": "f9d95664",
   "metadata": {},
   "outputs": [],
   "source": [
    "import random\n",
    "import pandas as pd\n",
    "import matplotlib.pyplot as plt\n",
    "import seaborn as sns"
   ]
  },
  {
   "cell_type": "markdown",
   "id": "e76e71ca",
   "metadata": {},
   "source": [
    "set the results function and then define which numbers are red and black. for this we assume that -1 is a roll of 00. "
   ]
  },
  {
   "cell_type": "code",
   "execution_count": 142,
   "id": "31a4121c",
   "metadata": {},
   "outputs": [],
   "source": [
    "result = []\n",
    "color = []\n",
    "ev_or_odd = []\n",
    "x =0\n",
    "\n",
    "red = [1 , 3 , 5 , 7 , 9 , 12 , 14 , 16 , 18 , 19 , 21 , 23 , 25 , 27 , 30 , 32 , 34 , 36]\n",
    "black = [2 , 4 , 6 , 8 , 10 , 11 , 13 , 15 , 17 , 20 , 22 , 24 , 26 , 28 , 29 , 31 , 33 , 35]\n",
    "green = [-1 , 0]"
   ]
  },
  {
   "cell_type": "markdown",
   "id": "8e58737f",
   "metadata": {},
   "source": [
    "define our spin function to give us three lists the number generated, whether the spin came out black red or 0/00, and whether the result is even odd or 0/00"
   ]
  },
  {
   "cell_type": "code",
   "execution_count": 137,
   "id": "be612adf",
   "metadata": {},
   "outputs": [],
   "source": [
    "\n",
    "\n",
    "def spins(x):\n",
    "    for i in range(x):\n",
    "        result.append(random.randint(-1,36))\n",
    "    ##print(result)\n",
    "    \n",
    "    for i in result:\n",
    "        if i in red:\n",
    "            color.append(\"red\")\n",
    "        elif i in black:\n",
    "            color.append(\"black\")\n",
    "        elif i in green:\n",
    "            color.append(\"0 and 00\")\n",
    "        ##print(color)\n",
    "        \n",
    "    for i in result:\n",
    "        if (i%2 == 0) and (i != 0) and (i != -1):\n",
    "            ev_or_odd.append(\"even\")\n",
    "        if (i%2 !=0) and (i != 0) and (i != -1):\n",
    "            ev_or_odd.append(\"odd\")\n",
    "        elif i in green:\n",
    "            ev_or_odd.append(\"0 and 00\")\n",
    "    ##print(ev_or_odd)\n",
    "        "
   ]
  },
  {
   "cell_type": "code",
   "execution_count": 138,
   "id": "b0f7854c",
   "metadata": {},
   "outputs": [
    {
     "name": "stdout",
     "output_type": "stream",
     "text": [
      "[31, 35, 31, 7, 29, 6, 14, 14, 2, 30, 1, 0, 6, 17, 26, 7, 6, 36, 12, 19, 2, 15, 2, 0, 7, 20, 28, 6, 2, 4, 10, 23, 24, 20, 2, 6, 26, 32, 23, 19, 33, 15, 1, 15, 34, 27, 10, 20, 21, 18, 18, 33, 9, 35, 22, 14, 27, 33, 17, 18, 24, 21, 34, 28, 29, 9, 27, 9, 4, 10, 10, 28, 9, 32, 10, 21, 18, 23, 34, 28, 22, 3, 14, 25, 7, 27, 14, 19, 16, 34, 31, -1, 8, 12, 14, 9, 19, 34, 29, 17, 3, 14, 23, 8, 26, 33, 19, 20, 11, 21, 13, 23, -1, 13, 27, 17, 29, 9, 17, 3, 34, -1, 0, 2, 22, 23, 28, 27, 33, 26, 34, 33, 33, 36, 9, -1, 16, 1, 1, 13, 15, 23, 12, 25, 29, 15, 4, 23, -1, 10, 0, 22, 18, 25, 8, 10, 16, 31, 34, 33, 29, 9, 25, 24, 14, 28, 4, 4, 16, 35, -1, -1, -1, 24, 36, 30, 0, 35, 10, 19, 35, 12, 21, 21, 33, 29, 21, 9, 1, 14, 4, 27, 12, 21, 32, 32, 29, 9, 4, 15, 9, 2, 16, 26, 18, 9, 28, 14, 7, 31, 2, 11, 6, 18, 6, 20, 29, 21, 19, -1, 32, 11, 19, 28, 20, 34, 23, 35, 19, 14, 7, -1, 30, 33, 2, 10, -1, 7, 11, 3, 34, 28, 36, -1, -1, 0, 18, 11, 36, 22, 29, 24, 27, 9, -1, 18, 9, 19, 17, 18, 18, 18, 36, 20, 34, 21, 3, 24, 35, -1, 31, 4, 4, 22, 27, 31, 21, 16, 8, 32, 32, 25, 3, 27, 5, 3, 0, 15, 34, 7, 24, 5, 8, 16, 25, 18, 30, 31, 30, 16, 27, 23, 14, -1, 27, 13, 32, 7, 1, 13, 7, 14, 30, 20, 6, 27, 10, 8, 13, 13, 4, 30, 1, 27, 35, 23, 5, 21, 32, 36, 13, 3, -1, 5, 12, 10, 23, 2, 21, 18, 14, 26, 34, 5, 5, 24, 20, 4, 16, 15, 25, 18, 23, 36, 3, 35, 33, 12, 7, 21, 14, 16, 25, 18, 5, 12, 3, 30, 14, 6, 34, 14, 14, 33, 9, 25, 30, 30, 21, 10, 30, -1, 4, 19, 27, 4, 10, 35, 12, 15, 4, 19, -1, 10, 29, 18, 27, 31, 33, 14, 8, 1, 33, 8, 18, 17, 0, 28, 15, 14, 20, -1, 2, 33, 23, 9, 35, 3, 31, 32, 14, 25, 8, 30, 23, 12, 1, 23, 14, 33, 18, 36, 20, 19, 15, 8, 16, 35, 35, 18, 3, 31, 24, 8, 26, 1, 7, 20, 0, 22, 5, 12, 5, 29, 33, 17, 16, 35, 11, 18, 23, 26, -1, 34, 0, 21, 15, 20, 14, 4, 13, 17, 5, 18, 35, 30, 0, 29, 21, 14, 3, 7, 19, 1, 18, 32, 26, 30, 22, 31, 11, 33, 12, 18, 34, 13, 31, 27, 2, 12, 12, 12, 13, 26, 18, 23, 2, 25, 9, 22, 4, 30, 1, 30, 0, 17, 16, 13, 35, 3, 16, 7, 0, 16, 12, 2, 13, 23, 29, 33, 33, 13, 4, 22, 8, 8, 8, 9, 4, 28, 27, 23, 31, 21, 19, 21, 10, 27, 31, 9, 32, 28, 32, 3, 16, 0, 7, 33, 2, 30, 8, 30, 15, 34, 15, 35, 36, 16, 23, 5, 25, 34, 5, 12, 7, 0, 23, 11, 23, 12, 34, 29, 11, 21, 7, 15, 6, 25, 17, 2, 4, 5, 25, 12, 2, 6, 17, 11, 5, 13, 3, 36, 21, 3, 7, 12, 22, 8, 14, 8, 3, 10, 3, 30, 7, 20, 5, 30, 0, 5, 12, 4, 28, 4, 21, 19, 5, 30, 2, 21, 6, 14, 33, 25, 21, -1, -1, 6, 31, 12, 0, 7, 1, -1, 2, 32, 6, 33, 22, 36, 12, 3, 18, 23, 22, 19, 29, 5, 12, 3, 10, 30, 35, 12, 19, 15, 18, 28, 24, 31, 36, 29, 13, 28, 31, 28, 16, 18, 33, 27, 22, 30, 27, 16, 8, 35, 27, 17, 11, 24, 1, 4, 32, 34, -1, 34, 15, 1, 14, 0, 28, 24, -1, 6, 27, 5, 19, 27, 21, 11, 12, 30, 29, 10, 21, 30, 8, 13, -1, 3, 3, 33, 29, 26, 33, 5, 30, 20, 14, -1, 3, 21, 25, 29, 34, 6, 19, 18, 4, 15, 3, 13, 0, 32, 27, 32, 15, 32, 8, 27, 18, 26, 1, 19, 34, 14, 9, 12, 19, 16, 1, 10, 12, 25, 26, 24, 1, 2, 16, 33, 27, 2, 5, -1, 17, 30, 30, 11, 19, 17, 13, 24, 25, 6, 25, 4, 12, 18, 9, 4, 26, 0, 4, 30, 29, 1, 17, 24, 1, 35, 22, -1, 13, 16, 6, 20, 11, 21, 35, 4, 23, 13, -1, 8, 30, 7, 30, 10, 24, 3, 15, 22, 3, 1, 24, 29, 17, 5, 28, 28, 26, 15, 0, 12, 33, 10, 18, 17, 13, 36, 23, 23, 19, 14, 9, 27, 1, 6, 12, 26, 28, 4, 36, 28, 35, 1, 5, 33, 17, 34, 4, 5, 19, 6, 6, 36, 19, 1, 36, 14, 34, 9, 33, 28, 11, 10, 36, 15, 1, 18, 34, 30, 29, 23, 20, 30, 16, 4, 24, -1, 16, 23, 34, 27, 11, 9, 5, 30, 31, 5, 24, 36, 34, 36, 0, 6, 36, 7, 36, 16, 0, 10, 18, 25, 10, 13, 17, 29, 5, 28, 0, 10, 2, 35, 11, 32, 36, 35, 33, 0, 8, 2, 29, 9, 36, 15, 9, 32, 25, 22, 11, 24, 28, 19, 17, 21, 34, 17, 27, 19, 20, 36, 33, 8, -1, 31, 13, 34, -1, 36, 6, 8, 14, 15, 31, 9, -1, 29, 28, 21, 5, 19, 28, 1, 24, 19, 15, 35, 2, 35, 1, 35, 17, 9, 10, 0, 32, 16, 21, 12, 35, 23, 35, 8, 13, 28, 8, 7, 1, 28]\n",
      "['odd', 'odd', 'odd', 'odd', 'odd', 'even', 'even', 'even', 'even', 'even', 'odd', '0 and 00', 'even', 'odd', 'even', 'odd', 'even', 'even', 'even', 'odd', 'even', 'odd', 'even', '0 and 00', 'odd', 'even', 'even', 'even', 'even', 'even', 'even', 'odd', 'even', 'even', 'even', 'even', 'even', 'even', 'odd', 'odd', 'odd', 'odd', 'odd', 'odd', 'even', 'odd', 'even', 'even', 'odd', 'even', 'even', 'odd', 'odd', 'odd', 'even', 'even', 'odd', 'odd', 'odd', 'even', 'even', 'odd', 'even', 'even', 'odd', 'odd', 'odd', 'odd', 'even', 'even', 'even', 'even', 'odd', 'even', 'even', 'odd', 'even', 'odd', 'even', 'even', 'even', 'odd', 'even', 'odd', 'odd', 'odd', 'even', 'odd', 'even', 'even', 'odd', '0 and 00', 'even', 'even', 'even', 'odd', 'odd', 'even', 'odd', 'odd', 'odd', 'even', 'odd', 'even', 'even', 'odd', 'odd', 'even', 'odd', 'odd', 'odd', 'odd', '0 and 00', 'odd', 'odd', 'odd', 'odd', 'odd', 'odd', 'odd', 'even', '0 and 00', '0 and 00', 'even', 'even', 'odd', 'even', 'odd', 'odd', 'even', 'even', 'odd', 'odd', 'even', 'odd', '0 and 00', 'even', 'odd', 'odd', 'odd', 'odd', 'odd', 'even', 'odd', 'odd', 'odd', 'even', 'odd', '0 and 00', 'even', '0 and 00', 'even', 'even', 'odd', 'even', 'even', 'even', 'odd', 'even', 'odd', 'odd', 'odd', 'odd', 'even', 'even', 'even', 'even', 'even', 'even', 'odd', '0 and 00', '0 and 00', '0 and 00', 'even', 'even', 'even', '0 and 00', 'odd', 'even', 'odd', 'odd', 'even', 'odd', 'odd', 'odd', 'odd', 'odd', 'odd', 'odd', 'even', 'even', 'odd', 'even', 'odd', 'even', 'even', 'odd', 'odd', 'even', 'odd', 'odd', 'even', 'even', 'even', 'even', 'odd', 'even', 'even', 'odd', 'odd', 'even', 'odd', 'even', 'even', 'even', 'even', 'odd', 'odd', 'odd', '0 and 00', 'even', 'odd', 'odd', 'even', 'even', 'even', 'odd', 'odd', 'odd', 'even', 'odd', '0 and 00', 'even', 'odd', 'even', 'even', '0 and 00', 'odd', 'odd', 'odd', 'even', 'even', 'even', '0 and 00', '0 and 00', '0 and 00', 'even', 'odd', 'even', 'even', 'odd', 'even', 'odd', 'odd', '0 and 00', 'even', 'odd', 'odd', 'odd', 'even', 'even', 'even', 'even', 'even', 'even', 'odd', 'odd', 'even', 'odd', '0 and 00', 'odd', 'even', 'even', 'even', 'odd', 'odd', 'odd', 'even', 'even', 'even', 'even', 'odd', 'odd', 'odd', 'odd', 'odd', '0 and 00', 'odd', 'even', 'odd', 'even', 'odd', 'even', 'even', 'odd', 'even', 'even', 'odd', 'even', 'even', 'odd', 'odd', 'even', '0 and 00', 'odd', 'odd', 'even', 'odd', 'odd', 'odd', 'odd', 'even', 'even', 'even', 'even', 'odd', 'even', 'even', 'odd', 'odd', 'even', 'even', 'odd', 'odd', 'odd', 'odd', 'odd', 'odd', 'even', 'even', 'odd', 'odd', '0 and 00', 'odd', 'even', 'even', 'odd', 'even', 'odd', 'even', 'even', 'even', 'even', 'odd', 'odd', 'even', 'even', 'even', 'even', 'odd', 'odd', 'even', 'odd', 'even', 'odd', 'odd', 'odd', 'even', 'odd', 'odd', 'even', 'even', 'odd', 'even', 'odd', 'even', 'odd', 'even', 'even', 'even', 'even', 'even', 'even', 'odd', 'odd', 'odd', 'even', 'even', 'odd', 'even', 'even', '0 and 00', 'even', 'odd', 'odd', 'even', 'even', 'odd', 'even', 'odd', 'even', 'odd', '0 and 00', 'even', 'odd', 'even', 'odd', 'odd', 'odd', 'even', 'even', 'odd', 'odd', 'even', 'even', 'odd', '0 and 00', 'even', 'odd', 'even', 'even', '0 and 00', 'even', 'odd', 'odd', 'odd', 'odd', 'odd', 'odd', 'even', 'even', 'odd', 'even', 'even', 'odd', 'even', 'odd', 'odd', 'even', 'odd', 'even', 'even', 'even', 'odd', 'odd', 'even', 'even', 'odd', 'odd', 'even', 'odd', 'odd', 'even', 'even', 'even', 'odd', 'odd', 'even', '0 and 00', 'even', 'odd', 'even', 'odd', 'odd', 'odd', 'odd', 'even', 'odd', 'odd', 'even', 'odd', 'even', '0 and 00', 'even', '0 and 00', 'odd', 'odd', 'even', 'even', 'even', 'odd', 'odd', 'odd', 'even', 'odd', 'even', '0 and 00', 'odd', 'odd', 'even', 'odd', 'odd', 'odd', 'odd', 'even', 'even', 'even', 'even', 'even', 'odd', 'odd', 'odd', 'even', 'even', 'even', 'odd', 'odd', 'odd', 'even', 'even', 'even', 'even', 'odd', 'even', 'even', 'odd', 'even', 'odd', 'odd', 'even', 'even', 'even', 'odd', 'even', '0 and 00', 'odd', 'even', 'odd', 'odd', 'odd', 'even', 'odd', '0 and 00', 'even', 'even', 'even', 'odd', 'odd', 'odd', 'odd', 'odd', 'odd', 'even', 'even', 'even', 'even', 'even', 'odd', 'even', 'even', 'odd', 'odd', 'odd', 'odd', 'odd', 'odd', 'even', 'odd', 'odd', 'odd', 'even', 'even', 'even', 'odd', 'even', '0 and 00', 'odd', 'odd', 'even', 'even', 'even', 'even', 'odd', 'even', 'odd', 'odd', 'even', 'even', 'odd', 'odd', 'odd', 'even', 'odd', 'even', 'odd', '0 and 00', 'odd', 'odd', 'odd', 'even', 'even', 'odd', 'odd', 'odd', 'odd', 'odd', 'even', 'odd', 'odd', 'even', 'even', 'odd', 'odd', 'even', 'even', 'even', 'odd', 'odd', 'odd', 'odd', 'odd', 'even', 'odd', 'odd', 'odd', 'even', 'even', 'even', 'even', 'even', 'odd', 'even', 'odd', 'even', 'odd', 'even', 'odd', 'even', '0 and 00', 'odd', 'even', 'even', 'even', 'even', 'odd', 'odd', 'odd', 'even', 'even', 'odd', 'even', 'even', 'odd', 'odd', 'odd', '0 and 00', '0 and 00', 'even', 'odd', 'even', '0 and 00', 'odd', 'odd', '0 and 00', 'even', 'even', 'even', 'odd', 'even', 'even', 'even', 'odd', 'even', 'odd', 'even', 'odd', 'odd', 'odd', 'even', 'odd', 'even', 'even', 'odd', 'even', 'odd', 'odd', 'even', 'even', 'even', 'odd', 'even', 'odd', 'odd', 'even', 'odd', 'even', 'even', 'even', 'odd', 'odd', 'even', 'even', 'odd', 'even', 'even', 'odd', 'odd', 'odd', 'odd', 'even', 'odd', 'even', 'even', 'even', '0 and 00', 'even', 'odd', 'odd', 'even', '0 and 00', 'even', 'even', '0 and 00', 'even', 'odd', 'odd', 'odd', 'odd', 'odd', 'odd', 'even', 'even', 'odd', 'even', 'odd', 'even', 'even', 'odd', '0 and 00', 'odd', 'odd', 'odd', 'odd', 'even', 'odd', 'odd', 'even', 'even', 'even', '0 and 00', 'odd', 'odd', 'odd', 'odd', 'even', 'even', 'odd', 'even', 'even', 'odd', 'odd', 'odd', '0 and 00', 'even', 'odd', 'even', 'odd', 'even', 'even', 'odd', 'even', 'even', 'odd', 'odd', 'even', 'even', 'odd', 'even', 'odd', 'even', 'odd', 'even', 'even', 'odd', 'even', 'even', 'odd', 'even', 'even', 'odd', 'odd', 'even', 'odd', '0 and 00', 'odd', 'even', 'even', 'odd', 'odd', 'odd', 'odd', 'even', 'odd', 'even', 'odd', 'even', 'even', 'even', 'odd', 'even', 'even', '0 and 00', 'even', 'even', 'odd', 'odd', 'odd', 'even', 'odd', 'odd', 'even', '0 and 00', 'odd', 'even', 'even', 'even', 'odd', 'odd', 'odd', 'even', 'odd', 'odd', '0 and 00', 'even', 'even', 'odd', 'even', 'even', 'even', 'odd', 'odd', 'even', 'odd', 'odd', 'even', 'odd', 'odd', 'odd', 'even', 'even', 'even', 'odd', '0 and 00', 'even', 'odd', 'even', 'even', 'odd', 'odd', 'even', 'odd', 'odd', 'odd', 'even', 'odd', 'odd', 'odd', 'even', 'even', 'even', 'even', 'even', 'even', 'even', 'odd', 'odd', 'odd', 'odd', 'odd', 'even', 'even', 'odd', 'odd', 'even', 'even', 'even', 'odd', 'odd', 'even', 'even', 'even', 'odd', 'odd', 'even', 'odd', 'even', 'even', 'odd', 'odd', 'even', 'even', 'even', 'odd', 'odd', 'even', 'even', 'even', 'even', 'even', '0 and 00', 'even', 'odd', 'even', 'odd', 'odd', 'odd', 'odd', 'even', 'odd', 'odd', 'even', 'even', 'even', 'even', '0 and 00', 'even', 'even', 'odd', 'even', 'even', '0 and 00', 'even', 'even', 'odd', 'even', 'odd', 'odd', 'odd', 'odd', 'even', '0 and 00', 'even', 'even', 'odd', 'odd', 'even', 'even', 'odd', 'odd', '0 and 00', 'even', 'even', 'odd', 'odd', 'even', 'odd', 'odd', 'even', 'odd', 'even', 'odd', 'even', 'even', 'odd', 'odd', 'odd', 'even', 'odd', 'odd', 'odd', 'even', 'even', 'odd', 'even', '0 and 00', 'odd', 'odd', 'even', '0 and 00', 'even', 'even', 'even', 'even', 'odd', 'odd', 'odd', '0 and 00', 'odd', 'even', 'odd', 'odd', 'odd', 'even', 'odd', 'even', 'odd', 'odd', 'odd', 'even', 'odd', 'odd', 'odd', 'odd', 'odd', 'even', '0 and 00', 'even', 'even', 'odd', 'even', 'odd', 'odd', 'odd', 'even', 'odd', 'even', 'even', 'odd', 'odd', 'even']\n"
     ]
    }
   ],
   "source": [
    "spins(1000)\n"
   ]
  },
  {
   "cell_type": "code",
   "execution_count": 139,
   "id": "8a92bbbb",
   "metadata": {},
   "outputs": [
    {
     "data": {
      "image/png": "[encoded data removed]",
      "text/plain": [
       "<Figure size 432x288 with 1 Axes>"
      ]
     },
     "metadata": {},
     "output_type": "display_data"
    }
   ],
   "source": [
    "sns.histplot(data=result, bins = 38)\n",
    "plt.show()"
   ]
  },
  {
   "cell_type": "markdown",
   "id": "792fb0df",
   "metadata": {},
   "source": [
    "Next we view the simulated rolls for red and black, and even or odd"
   ]
  },
  {
   "cell_type": "code",
   "execution_count": 140,
   "id": "c3d1bdc1",
   "metadata": {},
   "outputs": [
    {
     "data": {
      "image/png": "[encoded data removed]",
      "text/plain": [
       "<Figure size 432x288 with 1 Axes>"
      ]
     },
     "metadata": {},
     "output_type": "display_data"
    }
   ],
   "source": [
    "sns.histplot(data=color)\n",
    "plt.show()"
   ]
  },
  {
   "cell_type": "code",
   "execution_count": 141,
   "id": "f530e02d",
   "metadata": {},
   "outputs": [
    {
     "data": {
      "image/png": "[encoded data removed]",
      "text/plain": [
       "<Figure size 432x288 with 1 Axes>"
      ]
     },
     "metadata": {},
     "output_type": "display_data"
    }
   ],
   "source": [
    "sns.histplot(data=ev_or_odd)\n",
    "plt.show()"
   ]
  },
  {
   "cell_type": "markdown",
   "id": "c75dc906",
   "metadata": {},
   "source": [
    "rest the values for each run"
   ]
  },
  {
   "cell_type": "code",
   "execution_count": 136,
   "id": "7684b872",
   "metadata": {},
   "outputs": [],
   "source": [
    "result = []\n",
    "color = []\n",
    "ev_or_odd = []"
   ]
  },
  {
   "cell_type": "code",
   "execution_count": null,
   "id": "8c97cb68",
   "metadata": {},
   "outputs": [],
   "source": []
  }
 ],
 "metadata": {
  "kernelspec": {
   "display_name": "Python 3",
   "language": "python",
   "name": "python3"
  },
  "language_info": {
   "codemirror_mode": {
    "name": "ipython",
    "version": 3
   },
   "file_extension": ".py",
   "mimetype": "text/x-python",
   "name": "python",
   "nbconvert_exporter": "python",
   "pygments_lexer": "ipython3",
   "version": "3.8.8"
  }
 },
 "nbformat": 4,
 "nbformat_minor": 5
}
