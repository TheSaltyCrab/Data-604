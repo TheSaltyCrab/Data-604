{
 "cells": [
  {
   "cell_type": "markdown",
   "id": "d8883335",
   "metadata": {},
   "source": [
    "# Week One Disscussion\n",
    "\n",
    "### Goal: \"Write a simulation for a simple game of chance (e.g., drawing cards, rolling one or more dice, etc.). Run the simulation 1000 times and interpret the outcome. Post your code here, and discuss what might be done to improve it.\"\n",
    "\n",
    "### I chose roulette"
   ]
  },
  {
   "cell_type": "code",
   "execution_count": 1,
   "id": "e38b0c32",
   "metadata": {},
   "outputs": [],
   "source": [
    "import random\n",
    "import pandas as pd\n",
    "import matplotlib.pyplot as plt\n",
    "import seaborn as sns"
   ]
  },
  {
   "cell_type": "markdown",
   "id": "e5ef4341",
   "metadata": {},
   "source": [
    "set the results function and then define which numbers are red and black. for this we assume that -1 is a roll of 00. "
   ]
  },
  {
   "cell_type": "code",
   "execution_count": 2,
   "id": "eb3f738b",
   "metadata": {},
   "outputs": [],
   "source": [
    "result = []\n",
    "color = []\n",
    "ev_or_odd = []\n",
    "x =0\n",
    "\n",
    "red = [1 , 3 , 5 , 7 , 9 , 12 , 14 , 16 , 18 , 19 , 21 , 23 , 25 , 27 , 30 , 32 , 34 , 36]\n",
    "black = [2 , 4 , 6 , 8 , 10 , 11 , 13 , 15 , 17 , 20 , 22 , 24 , 26 , 28 , 29 , 31 , 33 , 35]\n",
    "green = [-1 , 0]"
   ]
  },
  {
   "cell_type": "markdown",
   "id": "5f23763d",
   "metadata": {},
   "source": [
    "define our spin function to give us three lists the number generated, whether the rol"
   ]
  },
  {
   "cell_type": "code",
   "execution_count": 3,
   "id": "d63f9eaf",
   "metadata": {},
   "outputs": [],
   "source": [
    "\n",
    "\n",
    "def spins(x):\n",
    "    for i in range(x):\n",
    "        result.append(random.randint(-1,36))\n",
    "    ##print(result)\n",
    "    \n",
    "    for i in result:\n",
    "        if i in red:\n",
    "            color.append(\"red\")\n",
    "        elif i in black:\n",
    "            color.append(\"black\")\n",
    "        elif i in green:\n",
    "            color.append(\"0 and 00\")\n",
    "        ##print(color)\n",
    "        \n",
    "    for i in result:\n",
    "        if (i%2 == 0) and (i != 0) and (i != -1):\n",
    "            ev_or_odd.append(\"even\")\n",
    "        if (i%2 !=0) and (i != 0) and (i != -1):\n",
    "            ev_or_odd.append(\"odd\")\n",
    "        elif i in green:\n",
    "            ev_or_odd.append(\"0 and 00\")\n",
    "    ##print(ev_or_odd)\n",
    "        "
   ]
  },
  {
   "cell_type": "code",
   "execution_count": 4,
   "id": "f96ceeb2",
   "metadata": {},
   "outputs": [],
   "source": [
    "spins(1000)\n"
   ]
  },
  {
   "cell_type": "code",
   "execution_count": 5,
   "id": "442f4c1c",
   "metadata": {},
   "outputs": [
    {
     "data": {
      "image/png": "[encoded data removed]",
      "text/plain": [
       "<Figure size 432x288 with 1 Axes>"
      ]
     },
     "metadata": {
      "needs_background": "light"
     },
     "output_type": "display_data"
    }
   ],
   "source": [
    "sns.histplot(data=result, bins = 38)\n",
    "plt.show()"
   ]
  },
  {
   "cell_type": "markdown",
   "id": "d3fdbc8a",
   "metadata": {},
   "source": [
    "Next we want a breakdown for a number of bets we will just go through the 1:2 bets red or black and even or odd. "
   ]
  },
  {
   "cell_type": "code",
   "execution_count": 6,
   "id": "a4ce8e22",
   "metadata": {},
   "outputs": [
    {
     "data": {
      "image/png": "[encoded data removed]",
      "text/plain": [
       "<Figure size 432x288 with 1 Axes>"
      ]
     },
     "metadata": {
      "needs_background": "light"
     },
     "output_type": "display_data"
    }
   ],
   "source": [
    "sns.histplot(data=color)\n",
    "plt.show()"
   ]
  },
  {
   "cell_type": "code",
   "execution_count": 7,
   "id": "7fef2b29",
   "metadata": {},
   "outputs": [
    {
     "data": {
      "image/png": "[encoded data removed]",
      "text/plain": [
       "<Figure size 432x288 with 1 Axes>"
      ]
     },
     "metadata": {
      "needs_background": "light"
     },
     "output_type": "display_data"
    }
   ],
   "source": [
    "sns.histplot(data=ev_or_odd)\n",
    "plt.show()"
   ]
  },
  {
   "cell_type": "markdown",
   "id": "4b263e59",
   "metadata": {},
   "source": [
    "rest the values for each run"
   ]
  },
  {
   "cell_type": "code",
   "execution_count": null,
   "id": "e0b3c5a6",
   "metadata": {},
   "outputs": [],
   "source": [
    "result = []\n",
    "color = []\n",
    "ev_or_odd = []"
   ]
  },
  {
   "cell_type": "code",
   "execution_count": null,
   "id": "2b0faa7f",
   "metadata": {},
   "outputs": [],
   "source": []
  }
 ],
 "metadata": {
  "kernelspec": {
   "display_name": "Python 3",
   "language": "python",
   "name": "python3"
  },
  "language_info": {
   "codemirror_mode": {
    "name": "ipython",
    "version": 3
   },
   "file_extension": ".py",
   "mimetype": "text/x-python",
   "name": "python",
   "nbconvert_exporter": "python",
   "pygments_lexer": "ipython3",
   "version": "3.8.8"
  }
 },
 "nbformat": 4,
 "nbformat_minor": 5
}
